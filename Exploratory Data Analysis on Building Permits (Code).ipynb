{
 "cells": [
  {
   "cell_type": "code",
   "execution_count": null,
   "metadata": {},
   "outputs": [],
   "source": [
    "# Import Pandas library, load dataset, and display top rows\n",
    "import pandas as pd\n",
    "building_permits = pd.read_csv('Building_Permits.csv', low_memory=False)\n",
    "building_permits.head()"
   ]
  },
  {
   "cell_type": "code",
   "execution_count": null,
   "metadata": {},
   "outputs": [],
   "source": [
    "# Import visualization libraries\n",
    "from plotnine import *\n",
    "import seaborn as sns"
   ]
  },
  {
   "cell_type": "code",
   "execution_count": null,
   "metadata": {},
   "outputs": [],
   "source": [
    "# Plot a distribution plot for Count of Permits, by Permit Type\n",
    "sns.displot(building_permits['Permit Type'].dropna())"
   ]
  },
  {
   "cell_type": "code",
   "execution_count": null,
   "metadata": {},
   "outputs": [],
   "source": [
    "# Plot a Bar Plot for the Counts of Permits, by Neighborhoods - Analysis Boundaries\n",
    "building_permits['Neighborhoods - Analysis Boundaries'].dropna().value_counts().head(10).plot.bar()"
   ]
  },
  {
   "cell_type": "code",
   "execution_count": null,
   "metadata": {},
   "outputs": [],
   "source": [
    "# Create a sample dataset from the original, with Estimated Cost less than or equal to 2,500,000\n",
    "df1 = building_permits[building_permits['Estimated Cost']<=2500000].sample(10000).fillna(0)"
   ]
  },
  {
   "cell_type": "code",
   "execution_count": null,
   "metadata": {},
   "outputs": [],
   "source": [
    "# Plot a Scatter Plot for the Estimated Cost by Permit Type\n",
    "(\n",
    "    ggplot(df1, aes(df1['Proposed Units'], df1['Permit Type'], color='Permit Type'))\n",
    "    + geom_point()\n",
    "    + ggtitle('Estimated Cost by Permit Type')\n",
    "\n",
    ")"
   ]
  },
  {
   "cell_type": "code",
   "execution_count": null,
   "metadata": {},
   "outputs": [],
   "source": [
    "# Plot a Scatter Plot for the Estimated Cost of Proposed Units, by Permit Type\n",
    "(\n",
    "    ggplot(df1, aes(df1['Proposed Units'], df1['Estimated Cost'], color='Permit Type'))\n",
    "    + geom_point()\n",
    "    + ggtitle('Estimated Cost and Proposed Units by Permit Type')\n",
    "\n",
    ")"
   ]
  },
  {
   "cell_type": "code",
   "execution_count": null,
   "metadata": {},
   "outputs": [],
   "source": [
    "# Plot a Scatter Plot for the Estimated Cost of Number of Proposed Stories, by Permit Type\n",
    "(\n",
    "    ggplot(df1, aes(df1['Number of Proposed Stories'], df1['Estimated Cost'], color='Permit Type'))\n",
    "    + geom_point()\n",
    "    + ggtitle('Estimated Cost and Number of Proposed Stories by Permit Type')\n",
    "\n",
    ")"
   ]
  },
  {
   "cell_type": "code",
   "execution_count": null,
   "metadata": {},
   "outputs": [],
   "source": [
    "# Plot a Bar Plot for the Count of Permits, by Current Status\n",
    "building_permits['Current Status'].dropna().value_counts().head().plot.bar()"
   ]
  },
  {
   "cell_type": "code",
   "execution_count": null,
   "metadata": {},
   "outputs": [],
   "source": [
    "# Plot a Bar Plot for the Count of Fire Only Permits filed\n",
    "(ggplot(building_permits.sample(25000))\n",
    "     + aes('Fire Only Permit')\n",
    "     + geom_bar()\n",
    ")"
   ]
  },
  {
   "cell_type": "code",
   "execution_count": null,
   "metadata": {},
   "outputs": [],
   "source": [
    "# Plot a Scatter Plot of Estimated Cost, by Neighborhoods - Analysis Boundaries\n",
    "sns.lmplot(x='Neighborhoods - Analysis Boundaries', y='Estimated Cost', hue='Permit Type', \n",
    "           data=building_permits.loc[building_permits['Neighborhoods - Analysis Boundaries'].dropna().value_counts().head()], \n",
    "           fit_reg=False)"
   ]
  },
  {
   "cell_type": "code",
   "execution_count": null,
   "metadata": {},
   "outputs": [],
   "source": [
    "# Plot a Heatmap to visualize if there are correlations between the below categories\n",
    "sns.heatmap(\n",
    "    building_permits.loc[:, ['Permit Type', 'Number of Proposed Stories', \n",
    "                             'Estimated Cost', 'Proposed Units', 'Proposed Construction Type']].corr(),\n",
    "    annot=True\n",
    ")"
   ]
  }
 ],
 "metadata": {
  "kernelspec": {
   "display_name": "Python 3",
   "language": "python",
   "name": "python3"
  },
  "language_info": {
   "codemirror_mode": {
    "name": "ipython",
    "version": 3
   },
   "file_extension": ".py",
   "mimetype": "text/x-python",
   "name": "python",
   "nbconvert_exporter": "python",
   "pygments_lexer": "ipython3",
   "version": "3.8.5"
  }
 },
 "nbformat": 4,
 "nbformat_minor": 4
}
